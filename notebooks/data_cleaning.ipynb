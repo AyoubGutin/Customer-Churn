{
 "cells": [
  {
   "cell_type": "markdown",
   "metadata": {},
   "source": [
    "# Data cleaning for telco customer churn\n",
    "\n",
    "This will include basic checks of data (data types, n/a values) and cleaning"
   ]
  },
  {
   "cell_type": "code",
   "execution_count": 144,
   "metadata": {},
   "outputs": [],
   "source": [
    "# import modules\n",
    "import numpy as np\n",
    "import pandas as pd\n",
    "import seaborn as sns\n",
    "import matplotlib.pyplot as plt\n",
    "\n",
    "import warnings\n",
    "warnings.filterwarnings(\"ignore\")\n",
    "\n",
    "sns.set_theme()\n"
   ]
  },
  {
   "cell_type": "code",
   "execution_count": 145,
   "metadata": {},
   "outputs": [],
   "source": [
    "# intialise dataframe\n",
    "file_path = r\"..\\data\\raw\\telco-customer-churn.csv\"\n",
    "df = pd.read_csv(file_path)"
   ]
  },
  {
   "cell_type": "markdown",
   "metadata": {},
   "source": [
    "#### Get information about the data"
   ]
  },
  {
   "cell_type": "code",
   "execution_count": null,
   "metadata": {},
   "outputs": [],
   "source": [
    "df.info()\n",
    "\n",
    "print(\"-+\"*50)"
   ]
  },
  {
   "cell_type": "markdown",
   "metadata": {},
   "source": [
    "7043 observations, and 7043 non-null values for each feature so there are no missing values.<br>Most features are of the object type (yes/no), so I will have to convert that to 1/0, as  most machine learning alogrithms work with numerical data and it simplifies mathemtical operations / statistical analysis."
   ]
  },
  {
   "cell_type": "markdown",
   "metadata": {},
   "source": [
    "#### Clean data"
   ]
  },
  {
   "cell_type": "code",
   "execution_count": 170,
   "metadata": {},
   "outputs": [
    {
     "name": "stdout",
     "output_type": "stream",
     "text": [
      "<class 'pandas.core.frame.DataFrame'>\n",
      "Index: 7032 entries, 0 to 7042\n",
      "Data columns (total 31 columns):\n",
      " #   Column                                 Non-Null Count  Dtype  \n",
      "---  ------                                 --------------  -----  \n",
      " 0   SeniorCitizen                          7032 non-null   int64  \n",
      " 1   Partner                                7032 non-null   int64  \n",
      " 2   Dependents                             7032 non-null   int64  \n",
      " 3   tenure                                 7032 non-null   int64  \n",
      " 4   PhoneService                           7032 non-null   int64  \n",
      " 5   PaperlessBilling                       7032 non-null   int64  \n",
      " 6   MonthlyCharges                         7032 non-null   float64\n",
      " 7   TotalCharges                           7032 non-null   float64\n",
      " 8   Churn                                  7032 non-null   int64  \n",
      " 9   gender_Male                            7032 non-null   int64  \n",
      " 10  InternetService_Fiber optic            7032 non-null   int64  \n",
      " 11  InternetService_No                     7032 non-null   int64  \n",
      " 12  Contract_One year                      7032 non-null   int64  \n",
      " 13  Contract_Two year                      7032 non-null   int64  \n",
      " 14  PaymentMethod_Credit card (automatic)  7032 non-null   int64  \n",
      " 15  PaymentMethod_Electronic check         7032 non-null   int64  \n",
      " 16  PaymentMethod_Mailed check             7032 non-null   int64  \n",
      " 17  MultipleLines_No phone service         7032 non-null   int64  \n",
      " 18  MultipleLines_Yes                      7032 non-null   int64  \n",
      " 19  OnlineSecurity_No internet service     7032 non-null   int64  \n",
      " 20  OnlineSecurity_Yes                     7032 non-null   int64  \n",
      " 21  OnlineBackup_No internet service       7032 non-null   int64  \n",
      " 22  OnlineBackup_Yes                       7032 non-null   int64  \n",
      " 23  DeviceProtection_No internet service   7032 non-null   int64  \n",
      " 24  DeviceProtection_Yes                   7032 non-null   int64  \n",
      " 25  TechSupport_No internet service        7032 non-null   int64  \n",
      " 26  TechSupport_Yes                        7032 non-null   int64  \n",
      " 27  StreamingTV_No internet service        7032 non-null   int64  \n",
      " 28  StreamingTV_Yes                        7032 non-null   int64  \n",
      " 29  StreamingMovies_No internet service    7032 non-null   int64  \n",
      " 30  StreamingMovies_Yes                    7032 non-null   int64  \n",
      "dtypes: float64(2), int64(29)\n",
      "memory usage: 1.7 MB\n"
     ]
    },
    {
     "data": {
      "text/plain": [
       "Index(['SeniorCitizen', 'Partner', 'Dependents', 'tenure', 'PhoneService',\n",
       "       'PaperlessBilling', 'MonthlyCharges', 'TotalCharges', 'Churn',\n",
       "       'gender_Male', 'InternetService_Fiber optic', 'InternetService_No',\n",
       "       'Contract_One year', 'Contract_Two year',\n",
       "       'PaymentMethod_Credit card (automatic)',\n",
       "       'PaymentMethod_Electronic check', 'PaymentMethod_Mailed check',\n",
       "       'MultipleLines_No phone service', 'MultipleLines_Yes',\n",
       "       'OnlineSecurity_No internet service', 'OnlineSecurity_Yes',\n",
       "       'OnlineBackup_No internet service', 'OnlineBackup_Yes',\n",
       "       'DeviceProtection_No internet service', 'DeviceProtection_Yes',\n",
       "       'TechSupport_No internet service', 'TechSupport_Yes',\n",
       "       'StreamingTV_No internet service', 'StreamingTV_Yes',\n",
       "       'StreamingMovies_No internet service', 'StreamingMovies_Yes'],\n",
       "      dtype='object')"
      ]
     },
     "execution_count": 170,
     "metadata": {},
     "output_type": "execute_result"
    }
   ],
   "source": [
    "# drop uneccessary data \n",
    "if \"customerID\" in df.columns:\n",
    "    df = df.drop(columns=[\"customerID\"])\n",
    "\n",
    "\n",
    "# converting object types \n",
    "\n",
    "# convert object type data where values are yes/no to 1/0 \n",
    "# get all object columns\n",
    "object_columns = df.select_dtypes(include=[\"object\"]).columns\n",
    "# filter columns for features with only yes or no\n",
    "for col in object_columns:\n",
    "    if df[col].isin([\"Yes\", \"No\"]).all():\n",
    "        df[col] = df[col].replace({\"Yes\": 1, \"No\": 0})\n",
    "\n",
    "# convert totalcharge to float - there was an error when doing it straight away, indicating there are missing entries we didn't find first\n",
    "# drop rows with missing total charges (around 20) \n",
    "df['TotalCharges'] = df['TotalCharges'].replace(' ', np.nan)\n",
    "df = df.dropna(subset=['TotalCharges']) #\n",
    "df.TotalCharges = df.TotalCharges.astype(float)\n",
    "\n",
    "\n",
    "# remaining objects will be encoded via one hot encoding and then convert bool to int \n",
    "categorical_columns = [\"gender\", \"InternetService\", \"Contract\", \"PaymentMethod\", \"MultipleLines\", \"OnlineSecurity\", \"OnlineBackup\", \"DeviceProtection\", \"TechSupport\", \"StreamingTV\", \"StreamingMovies\"]\n",
    "existing_columns = []\n",
    "for col in categorical_columns:\n",
    "    if col in df.columns:\n",
    "        existing_columns.append(col)\n",
    "if len(existing_columns) > 0:        \n",
    "    df = pd.get_dummies(df, columns=existing_columns, drop_first=True) # drop first column during dummy vairable creation to prevent multicollinearity and avoid redudancy\n",
    "\n",
    "bool_columns = df.select_dtypes(include=[\"bool\"]).columns\n",
    "for col in bool_columns:\n",
    "    if df[col].isin([True, False]).all():\n",
    "        df[col] = df[col].replace({True: 1, False: 0})\n",
    "\n",
    "df.info()\n",
    "df.columns\n"
   ]
  },
  {
   "cell_type": "markdown",
   "metadata": {},
   "source": [
    "#### Check for outliers"
   ]
  },
  {
   "cell_type": "code",
   "execution_count": 172,
   "metadata": {},
   "outputs": [
    {
     "data": {
      "image/png": "[encoded data removed]",
      "text/plain": [
       "<Figure size 600x400 with 1 Axes>"
      ]
     },
     "metadata": {},
     "output_type": "display_data"
    },
    {
     "data": {
      "image/png": "[encoded data removed]",
      "text/plain": [
       "<Figure size 600x400 with 1 Axes>"
      ]
     },
     "metadata": {},
     "output_type": "display_data"
    }
   ],
   "source": [
    "# visualise outliers for numerical data\n",
    "numerical_cols = [\"MonthlyCharges\", \"tenure\"] # don't include total charges as it is dependent\n",
    "for col in numerical_cols:\n",
    "    plt.figure(figsize=(6,4))\n",
    "    sns.boxplot(x=df[col])\n",
    "    plt.title(f\"Boxplot of {col}\")\n",
    "    plt.show()"
   ]
  },
  {
   "cell_type": "markdown",
   "metadata": {},
   "source": [
    "No immediate outliers for the numerical data."
   ]
  },
  {
   "cell_type": "code",
   "execution_count": 171,
   "metadata": {},
   "outputs": [],
   "source": [
    "# save cleaned data\n",
    "file_path = r\"..\\data\\processed\\cleaned-telco-customer-churn.csv\"\n",
    "df.to_csv(file_path)"
   ]
  },
  {
   "cell_type": "markdown",
   "metadata": {},
   "source": [
    "#### Cleaing and preprocessing is now \"complete\":\n",
    "- Binary Encoding: Done for binary features like Partner, Dependents\n",
    "- One-Hot Encoding: Done for cateogorical variables \n",
    "- Removed redundant columns\n",
    "\n",
    "The dataset is now ready for EDA\n",
    "\n",
    "However, this is an iterative process, and some features may need extra tweaking, especially when modelling, hence why complete is in quotation marks"
   ]
  },
  {
   "cell_type": "markdown",
   "metadata": {},
   "source": []
  }
 ],
 "metadata": {
  "kernelspec": {
   "display_name": ".venv",
   "language": "python",
   "name": "python3"
  },
  "language_info": {
   "codemirror_mode": {
    "name": "ipython",
    "version": 3
   },
   "file_extension": ".py",
   "mimetype": "text/x-python",
   "name": "python",
   "nbconvert_exporter": "python",
   "pygments_lexer": "ipython3",
   "version": "3.11.2"
  }
 },
 "nbformat": 4,
 "nbformat_minor": 2
}
